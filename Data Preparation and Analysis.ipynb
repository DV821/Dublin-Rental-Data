{
 "cells": [
  {
   "cell_type": "markdown",
   "metadata": {},
   "source": [
    "# <b>Name :</b> Dharmik Vara  \n",
    "# <b>Student ID :</b> 24215287\n",
    "\n",
    "\n",
    "# <b>Dataset :</b> Dublin Rental Database\n",
    "\n",
    "<li> The month in which the rental property was listed.\n",
    "<li> The specific locality in Dublin where the rental property is located.\n",
    "<li> The broader geographical region where the rental property is located.\n",
    "<li> The type of property being rented.\n",
    "<li> The number of bedrooms in the rental property.\n",
    "<li> The number of bathrooms in the rental property.\n",
    "<li> Whether the rental property has a garden.\n",
    "<li> Whether parking space is available at the property.\n",
    "<li> The duration of the lease agreement in months.\n",
    "<li> The contact information for the property agent or landlord.\n",
    "<li> The monthly rental price of the property.\n",
    "\n",
    "\n",
    "http://mlg.ucd.ie/modules/python/assignment1/rental/index.html"
   ]
  },
  {
   "cell_type": "markdown",
   "metadata": {},
   "source": [
    "## <b> Data Cleaning"
   ]
  },
  {
   "cell_type": "code",
   "execution_count": 1,
   "metadata": {},
   "outputs": [],
   "source": [
    "import numpy as np\n",
    "import pandas as pd "
   ]
  },
  {
   "cell_type": "code",
   "execution_count": 2,
   "metadata": {},
   "outputs": [
    {
     "data": {
      "text/html": [
       "<div>\n",
       "<style scoped>\n",
       "    .dataframe tbody tr th:only-of-type {\n",
       "        vertical-align: middle;\n",
       "    }\n",
       "\n",
       "    .dataframe tbody tr th {\n",
       "        vertical-align: top;\n",
       "    }\n",
       "\n",
       "    .dataframe thead th {\n",
       "        text-align: right;\n",
       "    }\n",
       "</style>\n",
       "<table border=\"1\" class=\"dataframe\">\n",
       "  <thead>\n",
       "    <tr style=\"text-align: right;\">\n",
       "      <th></th>\n",
       "      <th>Quarter</th>\n",
       "      <th>Month</th>\n",
       "      <th>Price</th>\n",
       "      <th>Property Type</th>\n",
       "      <th>Location</th>\n",
       "      <th>Bedrooms</th>\n",
       "      <th>Bathrooms</th>\n",
       "      <th>Parking</th>\n",
       "      <th>Garden</th>\n",
       "      <th>Lease Length</th>\n",
       "      <th>Contact</th>\n",
       "    </tr>\n",
       "  </thead>\n",
       "  <tbody>\n",
       "    <tr>\n",
       "      <th>0</th>\n",
       "      <td>Q1</td>\n",
       "      <td>January 2024</td>\n",
       "      <td>€ 7,200</td>\n",
       "      <td>Apartment</td>\n",
       "      <td>Dublin City South - Dublin 2</td>\n",
       "      <td>3</td>\n",
       "      <td>1 Bathroom</td>\n",
       "      <td>Yes</td>\n",
       "      <td>No</td>\n",
       "      <td>3 months</td>\n",
       "      <td>Estate Agent</td>\n",
       "    </tr>\n",
       "    <tr>\n",
       "      <th>1</th>\n",
       "      <td>Q1</td>\n",
       "      <td>January 2024</td>\n",
       "      <td>€ 2,960 per month</td>\n",
       "      <td>Apartment</td>\n",
       "      <td>Dublin City South - Dublin 24</td>\n",
       "      <td>2 Bedrooms</td>\n",
       "      <td>2 Bathrooms</td>\n",
       "      <td>Yes</td>\n",
       "      <td>???</td>\n",
       "      <td>3 months</td>\n",
       "      <td>Estate Agent</td>\n",
       "    </tr>\n",
       "    <tr>\n",
       "      <th>2</th>\n",
       "      <td>Q1</td>\n",
       "      <td>January 2024</td>\n",
       "      <td>€1,920.00 per month</td>\n",
       "      <td>Apartment</td>\n",
       "      <td>Dublin City South - Dublin 24</td>\n",
       "      <td>2 Bedrooms</td>\n",
       "      <td>2 Bathrooms</td>\n",
       "      <td>No</td>\n",
       "      <td>No</td>\n",
       "      <td>12 months</td>\n",
       "      <td>Estate Agent</td>\n",
       "    </tr>\n",
       "    <tr>\n",
       "      <th>3</th>\n",
       "      <td>Q1</td>\n",
       "      <td>January 2024</td>\n",
       "      <td>€ 2,590</td>\n",
       "      <td>Apartment</td>\n",
       "      <td>Dublin City South - Dublin 6</td>\n",
       "      <td>2 Bedrooms</td>\n",
       "      <td>1 Bathroom</td>\n",
       "      <td>No</td>\n",
       "      <td>No</td>\n",
       "      <td>12 months</td>\n",
       "      <td>Estate Agent</td>\n",
       "    </tr>\n",
       "    <tr>\n",
       "      <th>4</th>\n",
       "      <td>Q1</td>\n",
       "      <td>January 2024</td>\n",
       "      <td>€ 4,360 per month</td>\n",
       "      <td>House</td>\n",
       "      <td>Dublin City North - Dublin 1</td>\n",
       "      <td>3</td>\n",
       "      <td>2 Bathrooms</td>\n",
       "      <td>Yes</td>\n",
       "      <td>Yes</td>\n",
       "      <td>6 months</td>\n",
       "      <td>Estate Agent</td>\n",
       "    </tr>\n",
       "  </tbody>\n",
       "</table>\n",
       "</div>"
      ],
      "text/plain": [
       "  Quarter         Month                Price Property Type  \\\n",
       "0      Q1  January 2024              € 7,200     Apartment   \n",
       "1      Q1  January 2024    € 2,960 per month     Apartment   \n",
       "2      Q1  January 2024  €1,920.00 per month     Apartment   \n",
       "3      Q1  January 2024              € 2,590     Apartment   \n",
       "4      Q1  January 2024    € 4,360 per month         House   \n",
       "\n",
       "                        Location    Bedrooms    Bathrooms Parking Garden  \\\n",
       "0   Dublin City South - Dublin 2           3   1 Bathroom     Yes     No   \n",
       "1  Dublin City South - Dublin 24  2 Bedrooms  2 Bathrooms     Yes    ???   \n",
       "2  Dublin City South - Dublin 24  2 Bedrooms  2 Bathrooms      No     No   \n",
       "3   Dublin City South - Dublin 6  2 Bedrooms   1 Bathroom      No     No   \n",
       "4   Dublin City North - Dublin 1           3  2 Bathrooms     Yes    Yes   \n",
       "\n",
       "  Lease Length       Contact  \n",
       "0     3 months  Estate Agent  \n",
       "1     3 months  Estate Agent  \n",
       "2    12 months  Estate Agent  \n",
       "3    12 months  Estate Agent  \n",
       "4     6 months  Estate Agent  "
      ]
     },
     "execution_count": 2,
     "metadata": {},
     "output_type": "execute_result"
    }
   ],
   "source": [
    "df = pd.read_csv('dublin_rental_data.csv')\n",
    "df.head()"
   ]
  },
  {
   "cell_type": "markdown",
   "metadata": {},
   "source": [
    "### Checking number of unique values in each column"
   ]
  },
  {
   "cell_type": "code",
   "execution_count": 3,
   "metadata": {},
   "outputs": [
    {
     "name": "stdout",
     "output_type": "stream",
     "text": [
      "Quarter : 4\n",
      "Month : 12\n",
      "Price : 849\n",
      "Property Type : 2\n",
      "Location : 24\n",
      "Bedrooms : 10\n",
      "Bathrooms : 8\n",
      "Parking : 5\n",
      "Garden : 5\n",
      "Lease Length : 7\n",
      "Contact : 2\n"
     ]
    }
   ],
   "source": [
    "for col in df.columns:\n",
    "    print(f'{col} : {df[col].nunique()}')"
   ]
  },
  {
   "cell_type": "markdown",
   "metadata": {},
   "source": [
    "### Checking unique values in each categorical columns"
   ]
  },
  {
   "cell_type": "code",
   "execution_count": 4,
   "metadata": {},
   "outputs": [
    {
     "name": "stdout",
     "output_type": "stream",
     "text": [
      "Quarter : ['Q1' 'Q2' 'Q3' 'Q4']\n",
      "Month : ['January 2024' 'February 2024' 'March 2024' 'April 2024' 'May 2024'\n",
      " 'June 2024' 'July 2024' 'August 2024' 'September 2024' 'October 2024'\n",
      " 'November 2024' 'December 2024']\n",
      "Property Type : ['Apartment' 'House']\n",
      "Location : ['Dublin City South - Dublin 2' 'Dublin City South - Dublin 24'\n",
      " 'Dublin City South - Dublin 6' 'Dublin City North - Dublin 1'\n",
      " 'North Co Dublin' 'Dublin City North - Dublin 17'\n",
      " 'Dublin City South - Dublin 8' 'Dublin City South - Dublin 16'\n",
      " 'Dublin City South - Dublin 6W' 'South Co Dublin'\n",
      " 'Dublin City South - Dublin 4' 'Dublin City North - Dublin 9'\n",
      " 'Dublin City North - Dublin 3' 'Dublin City North - Dublin 11'\n",
      " 'Dublin City North - Dublin 13' 'Dublin City North - Dublin 15'\n",
      " 'Dublin City South - Dublin 18' 'Dublin City South - Dublin 14'\n",
      " 'Dublin City South - Dublin 10' 'Dublin City North - Dublin 7'\n",
      " 'Dublin City South - Dublin 20' 'Dublin City South - Dublin 22'\n",
      " 'Dublin City South - Dublin 12' 'Dublin City North - Dublin 5']\n",
      "Parking : ['Yes' 'No' 'N' 'Y' '???']\n",
      "Garden : ['No' '???' 'Yes' 'N' 'Y']\n",
      "Contact : ['Estate Agent' 'Owner']\n",
      "Bedrooms : ['3' '2 Bedrooms' '3 Bedrooms' '1 Bedroom' '2' '4 Bedrooms' '1' '4'\n",
      " '5 Bedrooms' '5']\n",
      "Bathrooms : ['1 Bathroom' '2 Bathrooms' '3 Bathrooms' '2' '1' '4 Bathrooms' '3' '4']\n",
      "Lease Length : ['3 months' '12 months' '6 months' '12.0' '3.0' '6.0' '???']\n"
     ]
    }
   ],
   "source": [
    "for col in ['Quarter', 'Month', 'Property Type', 'Location', 'Parking', 'Garden', 'Contact', 'Bedrooms', 'Bathrooms', 'Lease Length']:\n",
    "    print(f'{col} : {df[col].unique()}')"
   ]
  },
  {
   "cell_type": "markdown",
   "metadata": {},
   "source": [
    "### Data Issues\n",
    "\n",
    "1. Values in Quarter, Property Type and Contact column seems fine. So no need to do anything in these columns. <br>\n",
    "2. All the values in Month column belongs same year so we can shorten it to first 3 characters of each month. <br>\n",
    "3. Parking and Graden column has non-uniform values and hence we will make it uniform and replace unknown values with unknown. <br>\n",
    "4. Location column contains collective values which can be used to derive other useful information like Region and Postal Code. <br>\n",
    "5. For Bedrooms and Bathrooms columns, all the values signifies number of bedrooms and bathrooms in the property. <br>\n",
    "6. The values in Lease Length signifies length of lease in terms of months and hence these values need to be converted to numerical values and replacing unknwon values with null values. <br>\n",
    "7. As per the data description, Price column contains monthly rental price. Need to extract just the numerical values, remove the currency denotation and any extra characters like 'per month'."
   ]
  },
  {
   "cell_type": "markdown",
   "metadata": {},
   "source": [
    "### Extracting only the first three characters of the month to shorten the length as the data is of same year"
   ]
  },
  {
   "cell_type": "code",
   "execution_count": 5,
   "metadata": {},
   "outputs": [],
   "source": [
    "df['Month'] = df['Month'].apply(lambda x : x[:3])"
   ]
  },
  {
   "cell_type": "markdown",
   "metadata": {},
   "source": [
    "### Making all the values in the column uniform and replacing unknown values with 'None'"
   ]
  },
  {
   "cell_type": "code",
   "execution_count": 6,
   "metadata": {},
   "outputs": [],
   "source": [
    "dict_bools = {'Yes' : 'Yes','Y' : 'Yes', 'No' : 'No', 'N' : 'No', '???' : None}\n",
    "df['Parking'] = df['Parking'].map(dict_bools)\n",
    "df['Garden'] = df['Garden'].map(dict_bools)"
   ]
  },
  {
   "cell_type": "markdown",
   "metadata": {},
   "source": [
    "### Shortening the value in column to North and South"
   ]
  },
  {
   "cell_type": "code",
   "execution_count": 7,
   "metadata": {},
   "outputs": [],
   "source": [
    "df['Region'] = df['Location'].apply(lambda x : 'North' if 'North' in x else 'South')"
   ]
  },
  {
   "cell_type": "markdown",
   "metadata": {},
   "source": [
    "### Removing the extra characters and keeping only the postal districts. Also replacing the unspecific region counties with 'None' and putting it into the new column"
   ]
  },
  {
   "cell_type": "code",
   "execution_count": 8,
   "metadata": {},
   "outputs": [],
   "source": [
    "df['Postal Districts'] = df['Location'].apply(lambda x : x.split('-')[-1].strip())\n",
    "df['Postal Districts'] = df['Postal Districts'].apply(lambda x : None if x in ['South Co Dublin', 'North Co Dublin'] else 'Dublin 6' if x == 'Dublin 6W' else x)"
   ]
  },
  {
   "cell_type": "markdown",
   "metadata": {},
   "source": [
    "### Removing the column as we have already extracted the necessary data needed"
   ]
  },
  {
   "cell_type": "code",
   "execution_count": 9,
   "metadata": {},
   "outputs": [],
   "source": [
    "df.drop('Location', axis = 1, inplace = True)"
   ]
  },
  {
   "cell_type": "code",
   "execution_count": 10,
   "metadata": {},
   "outputs": [
    {
     "data": {
      "text/plain": [
       "array(['3', '2 Bedrooms', '3 Bedrooms', '1 Bedroom', '2', '4 Bedrooms',\n",
       "       '1', '4', '5 Bedrooms', '5'], dtype=object)"
      ]
     },
     "execution_count": 10,
     "metadata": {},
     "output_type": "execute_result"
    }
   ],
   "source": [
    "df['Bedrooms'].unique()"
   ]
  },
  {
   "cell_type": "markdown",
   "metadata": {},
   "source": [
    "### Putting numerical values in the column and removing extra characters"
   ]
  },
  {
   "cell_type": "code",
   "execution_count": 11,
   "metadata": {},
   "outputs": [
    {
     "data": {
      "text/plain": [
       "array(['1 Bathroom', '2 Bathrooms', '3 Bathrooms', '2', '1',\n",
       "       '4 Bathrooms', '3', '4'], dtype=object)"
      ]
     },
     "execution_count": 11,
     "metadata": {},
     "output_type": "execute_result"
    }
   ],
   "source": [
    "df['Bedrooms'] = df['Bedrooms'].apply(lambda x : int(x.split(' ')[0]))\n",
    "df['Bathrooms'].unique()"
   ]
  },
  {
   "cell_type": "markdown",
   "metadata": {},
   "source": [
    "### Putting numerical values in the column and removing extra characters"
   ]
  },
  {
   "cell_type": "code",
   "execution_count": 12,
   "metadata": {},
   "outputs": [],
   "source": [
    "df['Bathrooms'] = df['Bathrooms'].apply(lambda x : int(x.split(' ')[0]))"
   ]
  },
  {
   "cell_type": "markdown",
   "metadata": {},
   "source": [
    "### Removing unnecessary characters and keeping only the numerical values for rental price every month"
   ]
  },
  {
   "cell_type": "code",
   "execution_count": 13,
   "metadata": {},
   "outputs": [
    {
     "data": {
      "text/plain": [
       "array(['3 months', '12 months', '6 months', '12.0', '3.0', '6.0', '???'],\n",
       "      dtype=object)"
      ]
     },
     "execution_count": 13,
     "metadata": {},
     "output_type": "execute_result"
    }
   ],
   "source": [
    "df['Price'] = df['Price'].apply(lambda x : float(x.replace('€', '').replace('per month', '').replace(',','').strip()))\n",
    "df['Lease Length'].unique()"
   ]
  },
  {
   "cell_type": "markdown",
   "metadata": {},
   "source": [
    "### Making the values uniform through the column"
   ]
  },
  {
   "cell_type": "code",
   "execution_count": 14,
   "metadata": {},
   "outputs": [],
   "source": [
    "lease_dicts = {'???' : None, '3 months' : '3 Months', '6 months' : '6 Months', '12 months' : '12 Months', '3,0' : '3 Months', '6.0' : '6 Months', '12.0' : '12 Months'}\n",
    "df['Lease Length'] = df['Lease Length'].map(lease_dicts)"
   ]
  },
  {
   "cell_type": "code",
   "execution_count": 15,
   "metadata": {},
   "outputs": [
    {
     "data": {
      "text/html": [
       "<div>\n",
       "<style scoped>\n",
       "    .dataframe tbody tr th:only-of-type {\n",
       "        vertical-align: middle;\n",
       "    }\n",
       "\n",
       "    .dataframe tbody tr th {\n",
       "        vertical-align: top;\n",
       "    }\n",
       "\n",
       "    .dataframe thead th {\n",
       "        text-align: right;\n",
       "    }\n",
       "</style>\n",
       "<table border=\"1\" class=\"dataframe\">\n",
       "  <thead>\n",
       "    <tr style=\"text-align: right;\">\n",
       "      <th></th>\n",
       "      <th>Quarter</th>\n",
       "      <th>Month</th>\n",
       "      <th>Price</th>\n",
       "      <th>Property Type</th>\n",
       "      <th>Bedrooms</th>\n",
       "      <th>Bathrooms</th>\n",
       "      <th>Parking</th>\n",
       "      <th>Garden</th>\n",
       "      <th>Lease Length</th>\n",
       "      <th>Contact</th>\n",
       "      <th>Region</th>\n",
       "      <th>Postal Districts</th>\n",
       "    </tr>\n",
       "  </thead>\n",
       "  <tbody>\n",
       "    <tr>\n",
       "      <th>0</th>\n",
       "      <td>Q1</td>\n",
       "      <td>Jan</td>\n",
       "      <td>7200.0</td>\n",
       "      <td>Apartment</td>\n",
       "      <td>3</td>\n",
       "      <td>1</td>\n",
       "      <td>Yes</td>\n",
       "      <td>No</td>\n",
       "      <td>3 Months</td>\n",
       "      <td>Estate Agent</td>\n",
       "      <td>South</td>\n",
       "      <td>Dublin 2</td>\n",
       "    </tr>\n",
       "    <tr>\n",
       "      <th>1</th>\n",
       "      <td>Q1</td>\n",
       "      <td>Jan</td>\n",
       "      <td>2960.0</td>\n",
       "      <td>Apartment</td>\n",
       "      <td>2</td>\n",
       "      <td>2</td>\n",
       "      <td>Yes</td>\n",
       "      <td>None</td>\n",
       "      <td>3 Months</td>\n",
       "      <td>Estate Agent</td>\n",
       "      <td>South</td>\n",
       "      <td>Dublin 24</td>\n",
       "    </tr>\n",
       "    <tr>\n",
       "      <th>2</th>\n",
       "      <td>Q1</td>\n",
       "      <td>Jan</td>\n",
       "      <td>1920.0</td>\n",
       "      <td>Apartment</td>\n",
       "      <td>2</td>\n",
       "      <td>2</td>\n",
       "      <td>No</td>\n",
       "      <td>No</td>\n",
       "      <td>12 Months</td>\n",
       "      <td>Estate Agent</td>\n",
       "      <td>South</td>\n",
       "      <td>Dublin 24</td>\n",
       "    </tr>\n",
       "    <tr>\n",
       "      <th>3</th>\n",
       "      <td>Q1</td>\n",
       "      <td>Jan</td>\n",
       "      <td>2590.0</td>\n",
       "      <td>Apartment</td>\n",
       "      <td>2</td>\n",
       "      <td>1</td>\n",
       "      <td>No</td>\n",
       "      <td>No</td>\n",
       "      <td>12 Months</td>\n",
       "      <td>Estate Agent</td>\n",
       "      <td>South</td>\n",
       "      <td>Dublin 6</td>\n",
       "    </tr>\n",
       "    <tr>\n",
       "      <th>4</th>\n",
       "      <td>Q1</td>\n",
       "      <td>Jan</td>\n",
       "      <td>4360.0</td>\n",
       "      <td>House</td>\n",
       "      <td>3</td>\n",
       "      <td>2</td>\n",
       "      <td>Yes</td>\n",
       "      <td>Yes</td>\n",
       "      <td>6 Months</td>\n",
       "      <td>Estate Agent</td>\n",
       "      <td>North</td>\n",
       "      <td>Dublin 1</td>\n",
       "    </tr>\n",
       "  </tbody>\n",
       "</table>\n",
       "</div>"
      ],
      "text/plain": [
       "  Quarter Month   Price Property Type  Bedrooms  Bathrooms Parking Garden  \\\n",
       "0      Q1   Jan  7200.0     Apartment         3          1     Yes     No   \n",
       "1      Q1   Jan  2960.0     Apartment         2          2     Yes   None   \n",
       "2      Q1   Jan  1920.0     Apartment         2          2      No     No   \n",
       "3      Q1   Jan  2590.0     Apartment         2          1      No     No   \n",
       "4      Q1   Jan  4360.0         House         3          2     Yes    Yes   \n",
       "\n",
       "  Lease Length       Contact Region Postal Districts  \n",
       "0     3 Months  Estate Agent  South         Dublin 2  \n",
       "1     3 Months  Estate Agent  South        Dublin 24  \n",
       "2    12 Months  Estate Agent  South        Dublin 24  \n",
       "3    12 Months  Estate Agent  South         Dublin 6  \n",
       "4     6 Months  Estate Agent  North         Dublin 1  "
      ]
     },
     "execution_count": 15,
     "metadata": {},
     "output_type": "execute_result"
    }
   ],
   "source": [
    "df.head()"
   ]
  },
  {
   "cell_type": "markdown",
   "metadata": {},
   "source": [
    "### Saving the data into a new csv file "
   ]
  },
  {
   "cell_type": "code",
   "execution_count": 16,
   "metadata": {},
   "outputs": [],
   "source": [
    "df.to_csv('dublin_rental_data_cleaned.csv', index = None)"
   ]
  },
  {
   "cell_type": "markdown",
   "metadata": {},
   "source": [
    "## <b> Data Analysis"
   ]
  },
  {
   "cell_type": "code",
   "execution_count": 17,
   "metadata": {},
   "outputs": [],
   "source": [
    "import numpy as np\n",
    "import pandas as pd \n",
    "import matplotlib.pyplot as plt \n",
    "import seaborn as sns \n",
    "import warnings\n",
    "\n",
    "warnings.filterwarnings('ignore')\n",
    "%matplotlib inline "
   ]
  },
  {
   "cell_type": "code",
   "execution_count": 18,
   "metadata": {},
   "outputs": [
    {
     "data": {
      "text/html": [
       "<div>\n",
       "<style scoped>\n",
       "    .dataframe tbody tr th:only-of-type {\n",
       "        vertical-align: middle;\n",
       "    }\n",
       "\n",
       "    .dataframe tbody tr th {\n",
       "        vertical-align: top;\n",
       "    }\n",
       "\n",
       "    .dataframe thead th {\n",
       "        text-align: right;\n",
       "    }\n",
       "</style>\n",
       "<table border=\"1\" class=\"dataframe\">\n",
       "  <thead>\n",
       "    <tr style=\"text-align: right;\">\n",
       "      <th></th>\n",
       "      <th>Quarter</th>\n",
       "      <th>Month</th>\n",
       "      <th>Price</th>\n",
       "      <th>Property Type</th>\n",
       "      <th>Bedrooms</th>\n",
       "      <th>Bathrooms</th>\n",
       "      <th>Parking</th>\n",
       "      <th>Garden</th>\n",
       "      <th>Lease Length</th>\n",
       "      <th>Contact</th>\n",
       "      <th>Region</th>\n",
       "      <th>Postal Districts</th>\n",
       "    </tr>\n",
       "  </thead>\n",
       "  <tbody>\n",
       "    <tr>\n",
       "      <th>0</th>\n",
       "      <td>Q1</td>\n",
       "      <td>Jan</td>\n",
       "      <td>7200.0</td>\n",
       "      <td>Apartment</td>\n",
       "      <td>3</td>\n",
       "      <td>1</td>\n",
       "      <td>Yes</td>\n",
       "      <td>No</td>\n",
       "      <td>3 Months</td>\n",
       "      <td>Estate Agent</td>\n",
       "      <td>South</td>\n",
       "      <td>Dublin 2</td>\n",
       "    </tr>\n",
       "    <tr>\n",
       "      <th>1</th>\n",
       "      <td>Q1</td>\n",
       "      <td>Jan</td>\n",
       "      <td>2960.0</td>\n",
       "      <td>Apartment</td>\n",
       "      <td>2</td>\n",
       "      <td>2</td>\n",
       "      <td>Yes</td>\n",
       "      <td>NaN</td>\n",
       "      <td>3 Months</td>\n",
       "      <td>Estate Agent</td>\n",
       "      <td>South</td>\n",
       "      <td>Dublin 24</td>\n",
       "    </tr>\n",
       "    <tr>\n",
       "      <th>2</th>\n",
       "      <td>Q1</td>\n",
       "      <td>Jan</td>\n",
       "      <td>1920.0</td>\n",
       "      <td>Apartment</td>\n",
       "      <td>2</td>\n",
       "      <td>2</td>\n",
       "      <td>No</td>\n",
       "      <td>No</td>\n",
       "      <td>12 Months</td>\n",
       "      <td>Estate Agent</td>\n",
       "      <td>South</td>\n",
       "      <td>Dublin 24</td>\n",
       "    </tr>\n",
       "    <tr>\n",
       "      <th>3</th>\n",
       "      <td>Q1</td>\n",
       "      <td>Jan</td>\n",
       "      <td>2590.0</td>\n",
       "      <td>Apartment</td>\n",
       "      <td>2</td>\n",
       "      <td>1</td>\n",
       "      <td>No</td>\n",
       "      <td>No</td>\n",
       "      <td>12 Months</td>\n",
       "      <td>Estate Agent</td>\n",
       "      <td>South</td>\n",
       "      <td>Dublin 6</td>\n",
       "    </tr>\n",
       "    <tr>\n",
       "      <th>4</th>\n",
       "      <td>Q1</td>\n",
       "      <td>Jan</td>\n",
       "      <td>4360.0</td>\n",
       "      <td>House</td>\n",
       "      <td>3</td>\n",
       "      <td>2</td>\n",
       "      <td>Yes</td>\n",
       "      <td>Yes</td>\n",
       "      <td>6 Months</td>\n",
       "      <td>Estate Agent</td>\n",
       "      <td>North</td>\n",
       "      <td>Dublin 1</td>\n",
       "    </tr>\n",
       "  </tbody>\n",
       "</table>\n",
       "</div>"
      ],
      "text/plain": [
       "  Quarter Month   Price Property Type  Bedrooms  Bathrooms Parking Garden  \\\n",
       "0      Q1   Jan  7200.0     Apartment         3          1     Yes     No   \n",
       "1      Q1   Jan  2960.0     Apartment         2          2     Yes    NaN   \n",
       "2      Q1   Jan  1920.0     Apartment         2          2      No     No   \n",
       "3      Q1   Jan  2590.0     Apartment         2          1      No     No   \n",
       "4      Q1   Jan  4360.0         House         3          2     Yes    Yes   \n",
       "\n",
       "  Lease Length       Contact Region Postal Districts  \n",
       "0     3 Months  Estate Agent  South         Dublin 2  \n",
       "1     3 Months  Estate Agent  South        Dublin 24  \n",
       "2    12 Months  Estate Agent  South        Dublin 24  \n",
       "3    12 Months  Estate Agent  South         Dublin 6  \n",
       "4     6 Months  Estate Agent  North         Dublin 1  "
      ]
     },
     "execution_count": 18,
     "metadata": {},
     "output_type": "execute_result"
    }
   ],
   "source": [
    "df = pd.read_csv('dublin_rental_data_cleaned.csv')\n",
    "df.head()"
   ]
  },
  {
   "cell_type": "markdown",
   "metadata": {},
   "source": [
    "### Checking number of null values in each column"
   ]
  },
  {
   "cell_type": "code",
   "execution_count": 19,
   "metadata": {},
   "outputs": [
    {
     "data": {
      "text/plain": [
       "Quarter               0\n",
       "Month                 0\n",
       "Price                 0\n",
       "Property Type         0\n",
       "Bedrooms              0\n",
       "Bathrooms             0\n",
       "Parking             108\n",
       "Garden              177\n",
       "Lease Length         57\n",
       "Contact               0\n",
       "Region                0\n",
       "Postal Districts     99\n",
       "dtype: int64"
      ]
     },
     "execution_count": 19,
     "metadata": {},
     "output_type": "execute_result"
    }
   ],
   "source": [
    "df.isna().sum()"
   ]
  },
  {
   "cell_type": "markdown",
   "metadata": {},
   "source": [
    "### Differentiating Numerical and Categorical columns"
   ]
  },
  {
   "cell_type": "code",
   "execution_count": 20,
   "metadata": {},
   "outputs": [
    {
     "name": "stdout",
     "output_type": "stream",
     "text": [
      "<class 'pandas.core.frame.DataFrame'>\n",
      "RangeIndex: 1950 entries, 0 to 1949\n",
      "Data columns (total 12 columns):\n",
      " #   Column            Non-Null Count  Dtype  \n",
      "---  ------            --------------  -----  \n",
      " 0   Quarter           1950 non-null   object \n",
      " 1   Month             1950 non-null   object \n",
      " 2   Price             1950 non-null   float64\n",
      " 3   Property Type     1950 non-null   object \n",
      " 4   Bedrooms          1950 non-null   int64  \n",
      " 5   Bathrooms         1950 non-null   int64  \n",
      " 6   Parking           1842 non-null   object \n",
      " 7   Garden            1773 non-null   object \n",
      " 8   Lease Length      1893 non-null   object \n",
      " 9   Contact           1950 non-null   object \n",
      " 10  Region            1950 non-null   object \n",
      " 11  Postal Districts  1851 non-null   object \n",
      "dtypes: float64(1), int64(2), object(9)\n",
      "memory usage: 182.9+ KB\n"
     ]
    }
   ],
   "source": [
    "df.info()"
   ]
  },
  {
   "cell_type": "code",
   "execution_count": 21,
   "metadata": {},
   "outputs": [
    {
     "name": "stdout",
     "output_type": "stream",
     "text": [
      "There are 9 categorical columns and 3 numerical columns.\n",
      "\n",
      "Categorical Columns :  ['Quarter', 'Month', 'Property Type', 'Parking', 'Garden', 'Lease Length', 'Contact', 'Region', 'Postal Districts']\n",
      "\n",
      "Numerical Columns :  ['Price', 'Bedrooms', 'Bathrooms']\n"
     ]
    }
   ],
   "source": [
    "cat_cols = [col for col in df.columns if df[col].dtype == 'O']\n",
    "num_cols = [col for col in df.columns if df[col].dtype != 'O']\n",
    "\n",
    "print(f'There are {len(cat_cols)} categorical columns and {len(num_cols)} numerical columns.')\n",
    "print('\\nCategorical Columns : ', cat_cols)\n",
    "print('\\nNumerical Columns : ', num_cols)"
   ]
  },
  {
   "cell_type": "code",
   "execution_count": 22,
   "metadata": {},
   "outputs": [
    {
     "name": "stdout",
     "output_type": "stream",
     "text": [
      "Number of unique values in each categorical column\n",
      "\n",
      "Quarter : 4\n",
      "Month : 12\n",
      "Property Type : 2\n",
      "Parking : 2\n",
      "Garden : 2\n",
      "Lease Length : 3\n",
      "Contact : 2\n",
      "Region : 2\n",
      "Postal Districts : 21\n"
     ]
    }
   ],
   "source": [
    "print('Number of unique values in each categorical column\\n')\n",
    "for col in cat_cols:\n",
    "    print(f'{col} : {df[col].nunique()}')"
   ]
  },
  {
   "cell_type": "markdown",
   "metadata": {},
   "source": [
    "### Proportion of categories in each column"
   ]
  },
  {
   "cell_type": "code",
   "execution_count": 23,
   "metadata": {},
   "outputs": [
    {
     "name": "stdout",
     "output_type": "stream",
     "text": [
      "----------------Quarter----------------\n",
      "Quarter\n",
      "Q1    0.261538\n",
      "Q2    0.261026\n",
      "Q3    0.259487\n",
      "Q4    0.217949\n",
      "Name: proportion, dtype: float64\n",
      "----------------Month----------------\n",
      "Month\n",
      "Sep    0.100513\n",
      "Apr    0.092821\n",
      "Mar    0.091795\n",
      "May    0.089744\n",
      "Jan    0.086667\n",
      "Feb    0.083077\n",
      "Oct    0.082051\n",
      "Nov    0.082051\n",
      "Jul    0.081026\n",
      "Jun    0.078462\n",
      "Aug    0.077949\n",
      "Dec    0.053846\n",
      "Name: proportion, dtype: float64\n",
      "----------------Property Type----------------\n",
      "Property Type\n",
      "Apartment    0.753846\n",
      "House        0.246154\n",
      "Name: proportion, dtype: float64\n",
      "----------------Parking----------------\n",
      "Parking\n",
      "No     0.683496\n",
      "Yes    0.316504\n",
      "Name: proportion, dtype: float64\n",
      "----------------Garden----------------\n",
      "Garden\n",
      "No     0.770446\n",
      "Yes    0.229554\n",
      "Name: proportion, dtype: float64\n",
      "----------------Lease Length----------------\n",
      "Lease Length\n",
      "12 Months    0.724247\n",
      "6 Months     0.165346\n",
      "3 Months     0.110407\n",
      "Name: proportion, dtype: float64\n",
      "----------------Contact----------------\n",
      "Contact\n",
      "Estate Agent    0.7\n",
      "Owner           0.3\n",
      "Name: proportion, dtype: float64\n",
      "----------------Region----------------\n",
      "Region\n",
      "South    0.526154\n",
      "North    0.473846\n",
      "Name: proportion, dtype: float64\n",
      "----------------Postal Districts----------------\n",
      "Postal Districts\n",
      "Dublin 1     0.242572\n",
      "Dublin 2     0.204754\n",
      "Dublin 6     0.055646\n",
      "Dublin 11    0.039978\n",
      "Dublin 15    0.031334\n",
      "Dublin 12    0.030254\n",
      "Dublin 8     0.028633\n",
      "Dublin 4     0.028633\n",
      "Dublin 24    0.028093\n",
      "Dublin 17    0.027553\n",
      "Dublin 5     0.027553\n",
      "Dublin 13    0.027012\n",
      "Dublin 9     0.027012\n",
      "Dublin 20    0.026472\n",
      "Dublin 16    0.025932\n",
      "Dublin 3     0.025392\n",
      "Dublin 7     0.025392\n",
      "Dublin 18    0.024851\n",
      "Dublin 14    0.024851\n",
      "Dublin 22    0.024311\n",
      "Dublin 10    0.023771\n",
      "Name: proportion, dtype: float64\n"
     ]
    }
   ],
   "source": [
    "for col in cat_cols:\n",
    "    print(f'----------------{col}----------------')\n",
    "    print(df[col].value_counts(normalize=True))"
   ]
  },
  {
   "cell_type": "code",
   "execution_count": 24,
   "metadata": {},
   "outputs": [
    {
     "data": {
      "image/png": "[encoded data removed]",
      "text/plain": [
       "<Figure size 1500x1500 with 3 Axes>"
      ]
     },
     "metadata": {},
     "output_type": "display_data"
    }
   ],
   "source": [
    "plt.figure(figsize=(15,15))\n",
    "plt.suptitle('Univariate Analysis of Numerical Features', fontsize=20, fontweight='bold')\n",
    "\n",
    "for i in range(0, len(num_cols)):\n",
    "    plt.subplot(5, 3, i+1)\n",
    "    sns.kdeplot(df[num_cols[i]], shade=True, color = 'b')\n",
    "    plt.xlabel(num_cols[i])\n",
    "    plt.tight_layout()"
   ]
  },
  {
   "cell_type": "markdown",
   "metadata": {},
   "source": [
    "#### Insights :\n",
    "<li> Price of most properties in between 1000 and 2500 euros. </li>\n",
    "<li> Most properties have 1 bedroom and 1 bathroom. </li>"
   ]
  },
  {
   "cell_type": "code",
   "execution_count": 25,
   "metadata": {},
   "outputs": [
    {
     "data": {
      "image/png": "[encoded data removed]",
      "text/plain": [
       "<Figure size 2000x1500 with 8 Axes>"
      ]
     },
     "metadata": {},
     "output_type": "display_data"
    },
    {
     "data": {
      "image/png": "[encoded data removed]",
      "text/plain": [
       "<Figure size 2500x400 with 1 Axes>"
      ]
     },
     "metadata": {},
     "output_type": "display_data"
    }
   ],
   "source": [
    "plt.figure(figsize=(20, 15))\n",
    "plt.suptitle('Univariate Analysis of Categorical Variables', fontsize=20, fontweight='bold')\n",
    "\n",
    "for i in range(0,len(cat_cols)-1):\n",
    "    plt.subplot(4,2,i+1)\n",
    "    sns.countplot(x=df[cat_cols[i]], palette = 'Set2')\n",
    "    plt.tight_layout()\n",
    "    \n",
    "plt.figure(figsize = (25, 4))\n",
    "sns.countplot(x=df['Postal Districts'], palette = 'Set2')\n",
    "plt.show()"
   ]
  },
  {
   "cell_type": "markdown",
   "metadata": {},
   "source": [
    "#### Insights :\n",
    "<li> Number of rental properties available in first 3 quarter is almost similar. In the 4th quarter, there is a slight decrease.</li>\n",
    "<li> More than 75% of rental properties are apartments.</li>\n",
    "<li> Around 68.3% and 77% of the rental properties does not have parking and garden availability.</li>\n",
    "<li> More than 70% of the properties have 12 months of lease agreement.</li>\n",
    "<li> 70% of the rental properties are managed by eastate agents and the rest 30% are by property owners.</li>\n",
    "<li> Approximately 575 of the rental properties are present in southern region of Dublin and 43% are in northern region.</li>"
   ]
  },
  {
   "cell_type": "markdown",
   "metadata": {},
   "source": [
    "### Rental property distribution based on postal districts"
   ]
  },
  {
   "cell_type": "code",
   "execution_count": 26,
   "metadata": {},
   "outputs": [
    {
     "data": {
      "text/plain": [
       "<Axes: ylabel='count'>"
      ]
     },
     "execution_count": 26,
     "metadata": {},
     "output_type": "execute_result"
    },
    {
     "data": {
      "image/png": "[encoded data removed]",
      "text/plain": [
       "<Figure size 1500x1500 with 1 Axes>"
      ]
     },
     "metadata": {},
     "output_type": "display_data"
    }
   ],
   "source": [
    "df['Postal Districts'].value_counts().plot.pie(y=df['Postal Districts'], figsize=(15,15), autopct = '%1.1f')"
   ]
  },
  {
   "cell_type": "code",
   "execution_count": 27,
   "metadata": {},
   "outputs": [
    {
     "name": "stdout",
     "output_type": "stream",
     "text": [
      "Top 5 districts with most rental properties in Dublin : \n"
     ]
    },
    {
     "data": {
      "text/html": [
       "<div>\n",
       "<style scoped>\n",
       "    .dataframe tbody tr th:only-of-type {\n",
       "        vertical-align: middle;\n",
       "    }\n",
       "\n",
       "    .dataframe tbody tr th {\n",
       "        vertical-align: top;\n",
       "    }\n",
       "\n",
       "    .dataframe thead th {\n",
       "        text-align: right;\n",
       "    }\n",
       "</style>\n",
       "<table border=\"1\" class=\"dataframe\">\n",
       "  <thead>\n",
       "    <tr style=\"text-align: right;\">\n",
       "      <th></th>\n",
       "      <th>Postal Districts</th>\n",
       "      <th>Counts</th>\n",
       "    </tr>\n",
       "  </thead>\n",
       "  <tbody>\n",
       "    <tr>\n",
       "      <th>0</th>\n",
       "      <td>Dublin 1</td>\n",
       "      <td>449</td>\n",
       "    </tr>\n",
       "    <tr>\n",
       "      <th>1</th>\n",
       "      <td>Dublin 2</td>\n",
       "      <td>379</td>\n",
       "    </tr>\n",
       "    <tr>\n",
       "      <th>2</th>\n",
       "      <td>Dublin 6</td>\n",
       "      <td>103</td>\n",
       "    </tr>\n",
       "    <tr>\n",
       "      <th>3</th>\n",
       "      <td>Dublin 11</td>\n",
       "      <td>74</td>\n",
       "    </tr>\n",
       "    <tr>\n",
       "      <th>4</th>\n",
       "      <td>Dublin 15</td>\n",
       "      <td>58</td>\n",
       "    </tr>\n",
       "  </tbody>\n",
       "</table>\n",
       "</div>"
      ],
      "text/plain": [
       "  Postal Districts  Counts\n",
       "0         Dublin 1     449\n",
       "1         Dublin 2     379\n",
       "2         Dublin 6     103\n",
       "3        Dublin 11      74\n",
       "4        Dublin 15      58"
      ]
     },
     "execution_count": 27,
     "metadata": {},
     "output_type": "execute_result"
    }
   ],
   "source": [
    "print('Top 5 districts with most rental properties in Dublin : ')\n",
    "pd.DataFrame(df['Postal Districts'].value_counts()).reset_index().rename(columns={'count':'Counts'}).head()"
   ]
  },
  {
   "cell_type": "markdown",
   "metadata": {},
   "source": [
    "Most of the regions are surrounding the city centre. This could be possibly due to availability bars, clubs, restaurants, educational institutions, etc. in neighbourhood and walking distance."
   ]
  },
  {
   "cell_type": "code",
   "execution_count": 28,
   "metadata": {},
   "outputs": [
    {
     "name": "stdout",
     "output_type": "stream",
     "text": [
      "Top 5 districts with least rental properties in Dublin : \n"
     ]
    },
    {
     "data": {
      "text/html": [
       "<div>\n",
       "<style scoped>\n",
       "    .dataframe tbody tr th:only-of-type {\n",
       "        vertical-align: middle;\n",
       "    }\n",
       "\n",
       "    .dataframe tbody tr th {\n",
       "        vertical-align: top;\n",
       "    }\n",
       "\n",
       "    .dataframe thead th {\n",
       "        text-align: right;\n",
       "    }\n",
       "</style>\n",
       "<table border=\"1\" class=\"dataframe\">\n",
       "  <thead>\n",
       "    <tr style=\"text-align: right;\">\n",
       "      <th></th>\n",
       "      <th>Postal Districts</th>\n",
       "      <th>Counts</th>\n",
       "    </tr>\n",
       "  </thead>\n",
       "  <tbody>\n",
       "    <tr>\n",
       "      <th>16</th>\n",
       "      <td>Dublin 7</td>\n",
       "      <td>47</td>\n",
       "    </tr>\n",
       "    <tr>\n",
       "      <th>17</th>\n",
       "      <td>Dublin 18</td>\n",
       "      <td>46</td>\n",
       "    </tr>\n",
       "    <tr>\n",
       "      <th>18</th>\n",
       "      <td>Dublin 14</td>\n",
       "      <td>46</td>\n",
       "    </tr>\n",
       "    <tr>\n",
       "      <th>19</th>\n",
       "      <td>Dublin 22</td>\n",
       "      <td>45</td>\n",
       "    </tr>\n",
       "    <tr>\n",
       "      <th>20</th>\n",
       "      <td>Dublin 10</td>\n",
       "      <td>44</td>\n",
       "    </tr>\n",
       "  </tbody>\n",
       "</table>\n",
       "</div>"
      ],
      "text/plain": [
       "   Postal Districts  Counts\n",
       "16         Dublin 7      47\n",
       "17        Dublin 18      46\n",
       "18        Dublin 14      46\n",
       "19        Dublin 22      45\n",
       "20        Dublin 10      44"
      ]
     },
     "execution_count": 28,
     "metadata": {},
     "output_type": "execute_result"
    }
   ],
   "source": [
    "print('Top 5 districts with least rental properties in Dublin : ')\n",
    "pd.DataFrame(df['Postal Districts'].value_counts()).reset_index().rename(columns={'count':'Counts'}).tail()"
   ]
  },
  {
   "cell_type": "markdown",
   "metadata": {},
   "source": [
    "### Rental property availability based on months of year"
   ]
  },
  {
   "cell_type": "code",
   "execution_count": 29,
   "metadata": {},
   "outputs": [
    {
     "name": "stdout",
     "output_type": "stream",
     "text": [
      "Top 5 months with most rental properties available in Dublin : \n"
     ]
    },
    {
     "data": {
      "text/html": [
       "<div>\n",
       "<style scoped>\n",
       "    .dataframe tbody tr th:only-of-type {\n",
       "        vertical-align: middle;\n",
       "    }\n",
       "\n",
       "    .dataframe tbody tr th {\n",
       "        vertical-align: top;\n",
       "    }\n",
       "\n",
       "    .dataframe thead th {\n",
       "        text-align: right;\n",
       "    }\n",
       "</style>\n",
       "<table border=\"1\" class=\"dataframe\">\n",
       "  <thead>\n",
       "    <tr style=\"text-align: right;\">\n",
       "      <th></th>\n",
       "      <th>Month</th>\n",
       "      <th>Counts</th>\n",
       "    </tr>\n",
       "  </thead>\n",
       "  <tbody>\n",
       "    <tr>\n",
       "      <th>0</th>\n",
       "      <td>Sep</td>\n",
       "      <td>196</td>\n",
       "    </tr>\n",
       "    <tr>\n",
       "      <th>1</th>\n",
       "      <td>Apr</td>\n",
       "      <td>181</td>\n",
       "    </tr>\n",
       "    <tr>\n",
       "      <th>2</th>\n",
       "      <td>Mar</td>\n",
       "      <td>179</td>\n",
       "    </tr>\n",
       "    <tr>\n",
       "      <th>3</th>\n",
       "      <td>May</td>\n",
       "      <td>175</td>\n",
       "    </tr>\n",
       "    <tr>\n",
       "      <th>4</th>\n",
       "      <td>Jan</td>\n",
       "      <td>169</td>\n",
       "    </tr>\n",
       "  </tbody>\n",
       "</table>\n",
       "</div>"
      ],
      "text/plain": [
       "  Month  Counts\n",
       "0   Sep     196\n",
       "1   Apr     181\n",
       "2   Mar     179\n",
       "3   May     175\n",
       "4   Jan     169"
      ]
     },
     "execution_count": 29,
     "metadata": {},
     "output_type": "execute_result"
    }
   ],
   "source": [
    "print('Top 5 months with most rental properties available in Dublin : ')\n",
    "pd.DataFrame(df['Month'].value_counts()).reset_index().rename(columns={'count':'Counts'}).head()"
   ]
  },
  {
   "cell_type": "markdown",
   "metadata": {},
   "source": [
    "Majority of the rental proeprties are available in the month of September due to large immigration of international students. Students even graduate during this time of the year and might shift to other city or country for jobs."
   ]
  },
  {
   "cell_type": "code",
   "execution_count": 30,
   "metadata": {},
   "outputs": [
    {
     "name": "stdout",
     "output_type": "stream",
     "text": [
      "Top 5 months with least rental properties available in Dublin : \n"
     ]
    },
    {
     "data": {
      "text/html": [
       "<div>\n",
       "<style scoped>\n",
       "    .dataframe tbody tr th:only-of-type {\n",
       "        vertical-align: middle;\n",
       "    }\n",
       "\n",
       "    .dataframe tbody tr th {\n",
       "        vertical-align: top;\n",
       "    }\n",
       "\n",
       "    .dataframe thead th {\n",
       "        text-align: right;\n",
       "    }\n",
       "</style>\n",
       "<table border=\"1\" class=\"dataframe\">\n",
       "  <thead>\n",
       "    <tr style=\"text-align: right;\">\n",
       "      <th></th>\n",
       "      <th>Month</th>\n",
       "      <th>Counts</th>\n",
       "    </tr>\n",
       "  </thead>\n",
       "  <tbody>\n",
       "    <tr>\n",
       "      <th>7</th>\n",
       "      <td>Nov</td>\n",
       "      <td>160</td>\n",
       "    </tr>\n",
       "    <tr>\n",
       "      <th>8</th>\n",
       "      <td>Jul</td>\n",
       "      <td>158</td>\n",
       "    </tr>\n",
       "    <tr>\n",
       "      <th>9</th>\n",
       "      <td>Jun</td>\n",
       "      <td>153</td>\n",
       "    </tr>\n",
       "    <tr>\n",
       "      <th>10</th>\n",
       "      <td>Aug</td>\n",
       "      <td>152</td>\n",
       "    </tr>\n",
       "    <tr>\n",
       "      <th>11</th>\n",
       "      <td>Dec</td>\n",
       "      <td>105</td>\n",
       "    </tr>\n",
       "  </tbody>\n",
       "</table>\n",
       "</div>"
      ],
      "text/plain": [
       "   Month  Counts\n",
       "7    Nov     160\n",
       "8    Jul     158\n",
       "9    Jun     153\n",
       "10   Aug     152\n",
       "11   Dec     105"
      ]
     },
     "execution_count": 30,
     "metadata": {},
     "output_type": "execute_result"
    }
   ],
   "source": [
    "print('Top 5 months with least rental properties available in Dublin : ')\n",
    "pd.DataFrame(df['Month'].value_counts()).reset_index().rename(columns={'count':'Counts'}).tail()"
   ]
  },
  {
   "cell_type": "markdown",
   "metadata": {},
   "source": [
    "These are the months of holidays so lesser amount of people look for renting a property."
   ]
  },
  {
   "cell_type": "markdown",
   "metadata": {},
   "source": [
    "### Average prices of rental properties in different districts"
   ]
  },
  {
   "cell_type": "code",
   "execution_count": 31,
   "metadata": {},
   "outputs": [
    {
     "name": "stdout",
     "output_type": "stream",
     "text": [
      "Top 5 districts with highest average prices of properties:\n"
     ]
    },
    {
     "data": {
      "text/html": [
       "<div>\n",
       "<style scoped>\n",
       "    .dataframe tbody tr th:only-of-type {\n",
       "        vertical-align: middle;\n",
       "    }\n",
       "\n",
       "    .dataframe tbody tr th {\n",
       "        vertical-align: top;\n",
       "    }\n",
       "\n",
       "    .dataframe thead th {\n",
       "        text-align: right;\n",
       "    }\n",
       "</style>\n",
       "<table border=\"1\" class=\"dataframe\">\n",
       "  <thead>\n",
       "    <tr style=\"text-align: right;\">\n",
       "      <th></th>\n",
       "      <th>Price</th>\n",
       "    </tr>\n",
       "    <tr>\n",
       "      <th>Postal Districts</th>\n",
       "      <th></th>\n",
       "    </tr>\n",
       "  </thead>\n",
       "  <tbody>\n",
       "    <tr>\n",
       "      <th>Dublin 4</th>\n",
       "      <td>3233.96</td>\n",
       "    </tr>\n",
       "    <tr>\n",
       "      <th>Dublin 16</th>\n",
       "      <td>2847.29</td>\n",
       "    </tr>\n",
       "    <tr>\n",
       "      <th>Dublin 10</th>\n",
       "      <td>2828.86</td>\n",
       "    </tr>\n",
       "    <tr>\n",
       "      <th>Dublin 6</th>\n",
       "      <td>2777.96</td>\n",
       "    </tr>\n",
       "    <tr>\n",
       "      <th>Dublin 13</th>\n",
       "      <td>2716.00</td>\n",
       "    </tr>\n",
       "  </tbody>\n",
       "</table>\n",
       "</div>"
      ],
      "text/plain": [
       "                    Price\n",
       "Postal Districts         \n",
       "Dublin 4          3233.96\n",
       "Dublin 16         2847.29\n",
       "Dublin 10         2828.86\n",
       "Dublin 6          2777.96\n",
       "Dublin 13         2716.00"
      ]
     },
     "execution_count": 31,
     "metadata": {},
     "output_type": "execute_result"
    }
   ],
   "source": [
    "print('Top 5 districts with highest average prices of properties:')\n",
    "pd.DataFrame(np.round(df.groupby(['Postal Districts'])[['Price']].mean(),2)).sort_values(by='Price', ascending = False).head()"
   ]
  },
  {
   "cell_type": "markdown",
   "metadata": {},
   "source": [
    "The higher rental prices in Dublin 4 could be due to the presence of UCD. Most of the student look for renting a place nearby the institution and the property owners or estate agents could be taking advantage of the same."
   ]
  },
  {
   "cell_type": "code",
   "execution_count": 32,
   "metadata": {},
   "outputs": [
    {
     "name": "stdout",
     "output_type": "stream",
     "text": [
      "Top 5 districts with least average prices of properties:\n"
     ]
    },
    {
     "data": {
      "text/html": [
       "<div>\n",
       "<style scoped>\n",
       "    .dataframe tbody tr th:only-of-type {\n",
       "        vertical-align: middle;\n",
       "    }\n",
       "\n",
       "    .dataframe tbody tr th {\n",
       "        vertical-align: top;\n",
       "    }\n",
       "\n",
       "    .dataframe thead th {\n",
       "        text-align: right;\n",
       "    }\n",
       "</style>\n",
       "<table border=\"1\" class=\"dataframe\">\n",
       "  <thead>\n",
       "    <tr style=\"text-align: right;\">\n",
       "      <th></th>\n",
       "      <th>Price</th>\n",
       "    </tr>\n",
       "    <tr>\n",
       "      <th>Postal Districts</th>\n",
       "      <th></th>\n",
       "    </tr>\n",
       "  </thead>\n",
       "  <tbody>\n",
       "    <tr>\n",
       "      <th>Dublin 24</th>\n",
       "      <td>1951.73</td>\n",
       "    </tr>\n",
       "    <tr>\n",
       "      <th>Dublin 17</th>\n",
       "      <td>2259.02</td>\n",
       "    </tr>\n",
       "    <tr>\n",
       "      <th>Dublin 15</th>\n",
       "      <td>2302.76</td>\n",
       "    </tr>\n",
       "    <tr>\n",
       "      <th>Dublin 1</th>\n",
       "      <td>2353.43</td>\n",
       "    </tr>\n",
       "    <tr>\n",
       "      <th>Dublin 22</th>\n",
       "      <td>2382.67</td>\n",
       "    </tr>\n",
       "  </tbody>\n",
       "</table>\n",
       "</div>"
      ],
      "text/plain": [
       "                    Price\n",
       "Postal Districts         \n",
       "Dublin 24         1951.73\n",
       "Dublin 17         2259.02\n",
       "Dublin 15         2302.76\n",
       "Dublin 1          2353.43\n",
       "Dublin 22         2382.67"
      ]
     },
     "execution_count": 32,
     "metadata": {},
     "output_type": "execute_result"
    }
   ],
   "source": [
    "print('Top 5 districts with least average prices of properties:')\n",
    "pd.DataFrame(np.round(df.groupby(['Postal Districts'])[['Price']].mean(),2)).sort_values(by='Price', ascending = True).head()"
   ]
  },
  {
   "cell_type": "markdown",
   "metadata": {},
   "source": [
    "Dublin 24 is located in the outskirts of the city so less people prefer to rent a property far from the city."
   ]
  },
  {
   "cell_type": "markdown",
   "metadata": {},
   "source": [
    "### Average prices of property based on different factors"
   ]
  },
  {
   "cell_type": "code",
   "execution_count": 33,
   "metadata": {},
   "outputs": [
    {
     "name": "stdout",
     "output_type": "stream",
     "text": [
      "Average price of property based on property type:\n"
     ]
    },
    {
     "data": {
      "text/html": [
       "<div>\n",
       "<style scoped>\n",
       "    .dataframe tbody tr th:only-of-type {\n",
       "        vertical-align: middle;\n",
       "    }\n",
       "\n",
       "    .dataframe tbody tr th {\n",
       "        vertical-align: top;\n",
       "    }\n",
       "\n",
       "    .dataframe thead th {\n",
       "        text-align: right;\n",
       "    }\n",
       "</style>\n",
       "<table border=\"1\" class=\"dataframe\">\n",
       "  <thead>\n",
       "    <tr style=\"text-align: right;\">\n",
       "      <th></th>\n",
       "      <th>Price</th>\n",
       "    </tr>\n",
       "    <tr>\n",
       "      <th>Property Type</th>\n",
       "      <th></th>\n",
       "    </tr>\n",
       "  </thead>\n",
       "  <tbody>\n",
       "    <tr>\n",
       "      <th>Apartment</th>\n",
       "      <td>1973.25</td>\n",
       "    </tr>\n",
       "    <tr>\n",
       "      <th>House</th>\n",
       "      <td>4093.58</td>\n",
       "    </tr>\n",
       "  </tbody>\n",
       "</table>\n",
       "</div>"
      ],
      "text/plain": [
       "                 Price\n",
       "Property Type         \n",
       "Apartment      1973.25\n",
       "House          4093.58"
      ]
     },
     "execution_count": 33,
     "metadata": {},
     "output_type": "execute_result"
    }
   ],
   "source": [
    "print('Average price of property based on property type:')\n",
    "pd.DataFrame(np.round(df.groupby(['Property Type'])[['Price']].mean(),2))"
   ]
  },
  {
   "cell_type": "code",
   "execution_count": 34,
   "metadata": {},
   "outputs": [
    {
     "name": "stdout",
     "output_type": "stream",
     "text": [
      "Average price of property based on number of bedrooms:\n"
     ]
    },
    {
     "data": {
      "text/html": [
       "<div>\n",
       "<style scoped>\n",
       "    .dataframe tbody tr th:only-of-type {\n",
       "        vertical-align: middle;\n",
       "    }\n",
       "\n",
       "    .dataframe tbody tr th {\n",
       "        vertical-align: top;\n",
       "    }\n",
       "\n",
       "    .dataframe thead th {\n",
       "        text-align: right;\n",
       "    }\n",
       "</style>\n",
       "<table border=\"1\" class=\"dataframe\">\n",
       "  <thead>\n",
       "    <tr style=\"text-align: right;\">\n",
       "      <th></th>\n",
       "      <th>Price</th>\n",
       "    </tr>\n",
       "    <tr>\n",
       "      <th>Bedrooms</th>\n",
       "      <th></th>\n",
       "    </tr>\n",
       "  </thead>\n",
       "  <tbody>\n",
       "    <tr>\n",
       "      <th>1</th>\n",
       "      <td>1629.76</td>\n",
       "    </tr>\n",
       "    <tr>\n",
       "      <th>2</th>\n",
       "      <td>2198.44</td>\n",
       "    </tr>\n",
       "    <tr>\n",
       "      <th>3</th>\n",
       "      <td>3972.73</td>\n",
       "    </tr>\n",
       "    <tr>\n",
       "      <th>4</th>\n",
       "      <td>4044.48</td>\n",
       "    </tr>\n",
       "    <tr>\n",
       "      <th>5</th>\n",
       "      <td>4587.92</td>\n",
       "    </tr>\n",
       "  </tbody>\n",
       "</table>\n",
       "</div>"
      ],
      "text/plain": [
       "            Price\n",
       "Bedrooms         \n",
       "1         1629.76\n",
       "2         2198.44\n",
       "3         3972.73\n",
       "4         4044.48\n",
       "5         4587.92"
      ]
     },
     "execution_count": 34,
     "metadata": {},
     "output_type": "execute_result"
    }
   ],
   "source": [
    "print('Average price of property based on number of bedrooms:')\n",
    "pd.DataFrame(np.round(df.groupby(['Bedrooms'])[['Price']].mean(),2))"
   ]
  },
  {
   "cell_type": "code",
   "execution_count": 35,
   "metadata": {},
   "outputs": [
    {
     "name": "stdout",
     "output_type": "stream",
     "text": [
      "Average price of property based on number of bathrooms:\n"
     ]
    },
    {
     "data": {
      "text/html": [
       "<div>\n",
       "<style scoped>\n",
       "    .dataframe tbody tr th:only-of-type {\n",
       "        vertical-align: middle;\n",
       "    }\n",
       "\n",
       "    .dataframe tbody tr th {\n",
       "        vertical-align: top;\n",
       "    }\n",
       "\n",
       "    .dataframe thead th {\n",
       "        text-align: right;\n",
       "    }\n",
       "</style>\n",
       "<table border=\"1\" class=\"dataframe\">\n",
       "  <thead>\n",
       "    <tr style=\"text-align: right;\">\n",
       "      <th></th>\n",
       "      <th>Price</th>\n",
       "    </tr>\n",
       "    <tr>\n",
       "      <th>Bathrooms</th>\n",
       "      <th></th>\n",
       "    </tr>\n",
       "  </thead>\n",
       "  <tbody>\n",
       "    <tr>\n",
       "      <th>1</th>\n",
       "      <td>2292.46</td>\n",
       "    </tr>\n",
       "    <tr>\n",
       "      <th>2</th>\n",
       "      <td>2557.01</td>\n",
       "    </tr>\n",
       "    <tr>\n",
       "      <th>3</th>\n",
       "      <td>4278.91</td>\n",
       "    </tr>\n",
       "    <tr>\n",
       "      <th>4</th>\n",
       "      <td>4282.73</td>\n",
       "    </tr>\n",
       "  </tbody>\n",
       "</table>\n",
       "</div>"
      ],
      "text/plain": [
       "             Price\n",
       "Bathrooms         \n",
       "1          2292.46\n",
       "2          2557.01\n",
       "3          4278.91\n",
       "4          4282.73"
      ]
     },
     "execution_count": 35,
     "metadata": {},
     "output_type": "execute_result"
    }
   ],
   "source": [
    "print('Average price of property based on number of bathrooms:')\n",
    "pd.DataFrame(np.round(df.groupby(['Bathrooms'])[['Price']].mean(),2))"
   ]
  },
  {
   "cell_type": "code",
   "execution_count": 36,
   "metadata": {},
   "outputs": [
    {
     "name": "stdout",
     "output_type": "stream",
     "text": [
      "Average price of property based on availability of parking:\n"
     ]
    },
    {
     "data": {
      "text/html": [
       "<div>\n",
       "<style scoped>\n",
       "    .dataframe tbody tr th:only-of-type {\n",
       "        vertical-align: middle;\n",
       "    }\n",
       "\n",
       "    .dataframe tbody tr th {\n",
       "        vertical-align: top;\n",
       "    }\n",
       "\n",
       "    .dataframe thead th {\n",
       "        text-align: right;\n",
       "    }\n",
       "</style>\n",
       "<table border=\"1\" class=\"dataframe\">\n",
       "  <thead>\n",
       "    <tr style=\"text-align: right;\">\n",
       "      <th></th>\n",
       "      <th>Price</th>\n",
       "    </tr>\n",
       "    <tr>\n",
       "      <th>Parking</th>\n",
       "      <th></th>\n",
       "    </tr>\n",
       "  </thead>\n",
       "  <tbody>\n",
       "    <tr>\n",
       "      <th>No</th>\n",
       "      <td>2226.35</td>\n",
       "    </tr>\n",
       "    <tr>\n",
       "      <th>Yes</th>\n",
       "      <td>3098.95</td>\n",
       "    </tr>\n",
       "  </tbody>\n",
       "</table>\n",
       "</div>"
      ],
      "text/plain": [
       "           Price\n",
       "Parking         \n",
       "No       2226.35\n",
       "Yes      3098.95"
      ]
     },
     "execution_count": 36,
     "metadata": {},
     "output_type": "execute_result"
    }
   ],
   "source": [
    "print('Average price of property based on availability of parking:')\n",
    "pd.DataFrame(np.round(df.groupby(['Parking'])[['Price']].mean(),2))"
   ]
  },
  {
   "cell_type": "code",
   "execution_count": 37,
   "metadata": {},
   "outputs": [
    {
     "name": "stdout",
     "output_type": "stream",
     "text": [
      "Average price of property based on availability of garden:\n"
     ]
    },
    {
     "data": {
      "text/html": [
       "<div>\n",
       "<style scoped>\n",
       "    .dataframe tbody tr th:only-of-type {\n",
       "        vertical-align: middle;\n",
       "    }\n",
       "\n",
       "    .dataframe tbody tr th {\n",
       "        vertical-align: top;\n",
       "    }\n",
       "\n",
       "    .dataframe thead th {\n",
       "        text-align: right;\n",
       "    }\n",
       "</style>\n",
       "<table border=\"1\" class=\"dataframe\">\n",
       "  <thead>\n",
       "    <tr style=\"text-align: right;\">\n",
       "      <th></th>\n",
       "      <th>Price</th>\n",
       "    </tr>\n",
       "    <tr>\n",
       "      <th>Garden</th>\n",
       "      <th></th>\n",
       "    </tr>\n",
       "  </thead>\n",
       "  <tbody>\n",
       "    <tr>\n",
       "      <th>No</th>\n",
       "      <td>1998.02</td>\n",
       "    </tr>\n",
       "    <tr>\n",
       "      <th>Yes</th>\n",
       "      <td>4165.75</td>\n",
       "    </tr>\n",
       "  </tbody>\n",
       "</table>\n",
       "</div>"
      ],
      "text/plain": [
       "          Price\n",
       "Garden         \n",
       "No      1998.02\n",
       "Yes     4165.75"
      ]
     },
     "execution_count": 37,
     "metadata": {},
     "output_type": "execute_result"
    }
   ],
   "source": [
    "print('Average price of property based on availability of garden:')\n",
    "pd.DataFrame(np.round(df.groupby(['Garden'])[['Price']].mean(),2))"
   ]
  },
  {
   "cell_type": "code",
   "execution_count": 38,
   "metadata": {},
   "outputs": [
    {
     "name": "stdout",
     "output_type": "stream",
     "text": [
      "Average price of property based on property type and region:\n"
     ]
    },
    {
     "data": {
      "text/html": [
       "<div>\n",
       "<style scoped>\n",
       "    .dataframe tbody tr th:only-of-type {\n",
       "        vertical-align: middle;\n",
       "    }\n",
       "\n",
       "    .dataframe tbody tr th {\n",
       "        vertical-align: top;\n",
       "    }\n",
       "\n",
       "    .dataframe thead th {\n",
       "        text-align: right;\n",
       "    }\n",
       "</style>\n",
       "<table border=\"1\" class=\"dataframe\">\n",
       "  <thead>\n",
       "    <tr style=\"text-align: right;\">\n",
       "      <th></th>\n",
       "      <th></th>\n",
       "      <th>Price</th>\n",
       "    </tr>\n",
       "    <tr>\n",
       "      <th>Property Type</th>\n",
       "      <th>Region</th>\n",
       "      <th></th>\n",
       "    </tr>\n",
       "  </thead>\n",
       "  <tbody>\n",
       "    <tr>\n",
       "      <th rowspan=\"2\" valign=\"top\">Apartment</th>\n",
       "      <th>North</th>\n",
       "      <td>1951.20</td>\n",
       "    </tr>\n",
       "    <tr>\n",
       "      <th>South</th>\n",
       "      <td>1993.30</td>\n",
       "    </tr>\n",
       "    <tr>\n",
       "      <th rowspan=\"2\" valign=\"top\">House</th>\n",
       "      <th>North</th>\n",
       "      <td>3951.38</td>\n",
       "    </tr>\n",
       "    <tr>\n",
       "      <th>South</th>\n",
       "      <td>4218.01</td>\n",
       "    </tr>\n",
       "  </tbody>\n",
       "</table>\n",
       "</div>"
      ],
      "text/plain": [
       "                        Price\n",
       "Property Type Region         \n",
       "Apartment     North   1951.20\n",
       "              South   1993.30\n",
       "House         North   3951.38\n",
       "              South   4218.01"
      ]
     },
     "execution_count": 38,
     "metadata": {},
     "output_type": "execute_result"
    }
   ],
   "source": [
    "print('Average price of property based on property type and region:')\n",
    "pd.DataFrame(np.round(df.groupby(['Property Type','Region'])[['Price']].mean(),2))"
   ]
  },
  {
   "cell_type": "code",
   "execution_count": 39,
   "metadata": {},
   "outputs": [
    {
     "name": "stdout",
     "output_type": "stream",
     "text": [
      "Average price of each property in every quarter:\n"
     ]
    },
    {
     "data": {
      "text/html": [
       "<div>\n",
       "<style scoped>\n",
       "    .dataframe tbody tr th:only-of-type {\n",
       "        vertical-align: middle;\n",
       "    }\n",
       "\n",
       "    .dataframe tbody tr th {\n",
       "        vertical-align: top;\n",
       "    }\n",
       "\n",
       "    .dataframe thead th {\n",
       "        text-align: right;\n",
       "    }\n",
       "</style>\n",
       "<table border=\"1\" class=\"dataframe\">\n",
       "  <thead>\n",
       "    <tr style=\"text-align: right;\">\n",
       "      <th></th>\n",
       "      <th></th>\n",
       "      <th>Price</th>\n",
       "    </tr>\n",
       "    <tr>\n",
       "      <th>Quarter</th>\n",
       "      <th>Property Type</th>\n",
       "      <th></th>\n",
       "    </tr>\n",
       "  </thead>\n",
       "  <tbody>\n",
       "    <tr>\n",
       "      <th rowspan=\"2\" valign=\"top\">Q1</th>\n",
       "      <th>Apartment</th>\n",
       "      <td>1907.63</td>\n",
       "    </tr>\n",
       "    <tr>\n",
       "      <th>House</th>\n",
       "      <td>3923.72</td>\n",
       "    </tr>\n",
       "    <tr>\n",
       "      <th rowspan=\"2\" valign=\"top\">Q2</th>\n",
       "      <th>Apartment</th>\n",
       "      <td>1917.36</td>\n",
       "    </tr>\n",
       "    <tr>\n",
       "      <th>House</th>\n",
       "      <td>4062.99</td>\n",
       "    </tr>\n",
       "    <tr>\n",
       "      <th rowspan=\"2\" valign=\"top\">Q3</th>\n",
       "      <th>Apartment</th>\n",
       "      <td>1995.81</td>\n",
       "    </tr>\n",
       "    <tr>\n",
       "      <th>House</th>\n",
       "      <td>4072.96</td>\n",
       "    </tr>\n",
       "    <tr>\n",
       "      <th rowspan=\"2\" valign=\"top\">Q4</th>\n",
       "      <th>Apartment</th>\n",
       "      <td>2092.83</td>\n",
       "    </tr>\n",
       "    <tr>\n",
       "      <th>House</th>\n",
       "      <td>4339.27</td>\n",
       "    </tr>\n",
       "  </tbody>\n",
       "</table>\n",
       "</div>"
      ],
      "text/plain": [
       "                         Price\n",
       "Quarter Property Type         \n",
       "Q1      Apartment      1907.63\n",
       "        House          3923.72\n",
       "Q2      Apartment      1917.36\n",
       "        House          4062.99\n",
       "Q3      Apartment      1995.81\n",
       "        House          4072.96\n",
       "Q4      Apartment      2092.83\n",
       "        House          4339.27"
      ]
     },
     "execution_count": 39,
     "metadata": {},
     "output_type": "execute_result"
    }
   ],
   "source": [
    "print('Average price of each property in every quarter:')\n",
    "pd.DataFrame(np.round(df.groupby(['Quarter', 'Property Type'])[['Price']].mean(),2))"
   ]
  },
  {
   "cell_type": "markdown",
   "metadata": {},
   "source": [
    "# Conclusions\n",
    "\n",
    "The assignment is about the extracting the data from the website and use it for analysis of rental proeprties based on numerous factors like number of bedrooms, bathrooms, region, etc.\n",
    "\n",
    "Most of the properties are present near the city centre because of the source of tourist attractions and night life.\n",
    "\n",
    "The analysis can be deeper if we can add few more features like age, occupation of the tenant and distance from transport facilities, distance from workplace, etc.\n",
    "\n",
    "We can even perform a comparative analysis based on the inflation rate and historical prices of properties. \n",
    "\n",
    "Furthermore, we can use the data for below mentioned use-cases\n",
    "\n",
    "    1) Targetted Marketing : Focus more on the regions and postal codes where demand and prices are high consistently like some specific areas of South Dublin.\n",
    "  \n",
    "    2) Investment Stategies : Invest in properties with parking and garden availability or number of bedrooms and bathrooms, as these correlate positively with rental price.\n",
    "\n",
    "    3) Property Listings : Accuracy of listings can be verified if any of the properties are with unusually high or low rental prices and the listing strategies can be optimised accordingly.\n",
    "\n",
    "    4) Renting Strategies : Flexibility in lease lengths for popular destinations to attract potential tenants."
   ]
  }
 ],
 "metadata": {
  "kernelspec": {
   "display_name": "Python 3 (ipykernel)",
   "language": "python",
   "name": "python3"
  },
  "language_info": {
   "codemirror_mode": {
    "name": "ipython",
    "version": 3
   },
   "file_extension": ".py",
   "mimetype": "text/x-python",
   "name": "python",
   "nbconvert_exporter": "python",
   "pygments_lexer": "ipython3",
   "version": "3.11.4"
  }
 },
 "nbformat": 4,
 "nbformat_minor": 4
}
