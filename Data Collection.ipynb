{
 "cells": [
  {
   "cell_type": "markdown",
   "metadata": {},
   "source": [
    "## <b>Name :</b> Dharmik Vara  \n",
    "## <b>Student ID :</b> 24215287\n",
    "\n",
    "### <b>Dataset :</b> Dublin Rental Database\n",
    "\n",
    "http://mlg.ucd.ie/modules/python/assignment1/rental/index.html"
   ]
  },
  {
   "cell_type": "code",
   "execution_count": 1,
   "metadata": {},
   "outputs": [],
   "source": [
    "import requests\n",
    "from requests.exceptions import RequestException\n",
    "from bs4 import BeautifulSoup"
   ]
  },
  {
   "cell_type": "markdown",
   "metadata": {},
   "source": [
    "### Collecting all the URLs present in the index page"
   ]
  },
  {
   "cell_type": "code",
   "execution_count": 2,
   "metadata": {},
   "outputs": [
    {
     "name": "stdout",
     "output_type": "stream",
     "text": [
      "index.html\n",
      "Q1-page01.html\n",
      "Q2-page01.html\n",
      "Q3-page01.html\n",
      "Q4-page01.html\n"
     ]
    }
   ],
   "source": [
    "index_url = 'http://mlg.ucd.ie/modules/python/assignment1/rental/index.html'\n",
    "response = requests.get(index_url)\n",
    "soup = BeautifulSoup(response.content, 'html.parser')\n",
    "pages = soup.find_all('a', href = True)\n",
    "for page in pages:\n",
    "    print(page['href'])"
   ]
  },
  {
   "cell_type": "code",
   "execution_count": 3,
   "metadata": {},
   "outputs": [
    {
     "data": {
      "text/plain": [
       "'Q1-page01.html'"
      ]
     },
     "execution_count": 3,
     "metadata": {},
     "output_type": "execute_result"
    }
   ],
   "source": [
    "pages[1]['href']"
   ]
  },
  {
   "cell_type": "markdown",
   "metadata": {},
   "source": [
    "### Creating the URLs for all quarter data"
   ]
  },
  {
   "cell_type": "code",
   "execution_count": 4,
   "metadata": {},
   "outputs": [
    {
     "name": "stdout",
     "output_type": "stream",
     "text": [
      "http://mlg.ucd.ie/modules/python/assignment1/rental/Q1-page01.html\n",
      "http://mlg.ucd.ie/modules/python/assignment1/rental/Q2-page01.html\n",
      "http://mlg.ucd.ie/modules/python/assignment1/rental/Q3-page01.html\n",
      "http://mlg.ucd.ie/modules/python/assignment1/rental/Q4-page01.html\n"
     ]
    }
   ],
   "source": [
    "url_q1 = '/'.join(index_url.split('/')[:-1]) + '/' + pages[1]['href']\n",
    "url_q2 = '/'.join(index_url.split('/')[:-1]) + '/' + pages[2]['href']\n",
    "url_q3 = '/'.join(index_url.split('/')[:-1]) + '/' + pages[3]['href']\n",
    "url_q4 = '/'.join(index_url.split('/')[:-1]) + '/' + pages[4]['href']\n",
    "\n",
    "url_lists = [url_q1, url_q2, url_q3, url_q4]\n",
    "\n",
    "for urls in url_lists:\n",
    "    print(urls)"
   ]
  },
  {
   "cell_type": "markdown",
   "metadata": {},
   "source": [
    "### Collecting the data from every page in each quarter and saving it in form of a dictionary"
   ]
  },
  {
   "cell_type": "code",
   "execution_count": 5,
   "metadata": {},
   "outputs": [
    {
     "name": "stdout",
     "output_type": "stream",
     "text": [
      "http://mlg.ucd.ie/modules/python/assignment1/rental/Q1-page01.html\n"
     ]
    },
    {
     "name": "stdout",
     "output_type": "stream",
     "text": [
      "All Pages Done!!\n",
      "http://mlg.ucd.ie/modules/python/assignment1/rental/Q2-page01.html\n",
      "All Pages Done!!\n",
      "http://mlg.ucd.ie/modules/python/assignment1/rental/Q3-page01.html\n",
      "All Pages Done!!\n",
      "http://mlg.ucd.ie/modules/python/assignment1/rental/Q4-page01.html\n",
      "All Pages Done!!\n"
     ]
    }
   ],
   "source": [
    "data = {\n",
    "    'Quarter':[],\n",
    "    'Month':[],\n",
    "    'Price':[],\n",
    "    'Property Type':[],\n",
    "    'Location':[],\n",
    "    'Bedrooms':[],\n",
    "    'Bathrooms':[],\n",
    "    'Parking':[],\n",
    "    'Garden':[],\n",
    "    'Lease Length':[],\n",
    "    'Contact':[]\n",
    "}\n",
    "\n",
    "# To extract data for each quarter\n",
    "for i in range(0,len(url_lists)):\n",
    "    url = url_lists[i]\n",
    "    print(url)\n",
    "    page = 1\n",
    "    while True: \n",
    "        # Modifiying URL to getch data from different pages\n",
    "        if page < 10:\n",
    "            url = url[:-6] + str(page) + '.html' # Till page number 10\n",
    "        else:\n",
    "            url = url[:-7] + str(page) + '.html' # From page number 10 \n",
    "        try:\n",
    "            response = requests.get(url)\n",
    "            response.raise_for_status()\n",
    "        except RequestException as e:\n",
    "            print('All Pages Done!!')\n",
    "            break\n",
    "        soup = BeautifulSoup(response.content, 'html.parser')\n",
    "        \n",
    "        # To append data into different dictionary keys\n",
    "        for rec in soup.find_all('span', class_='record'):\n",
    "            data['Quarter'].append('Q' + str(i+1))\n",
    "            data['Month'].append(rec.get_text())\n",
    "        \n",
    "        # The data is in the tabular form and hence content from each row needs to be extracted and extra spaces need to be stripped\n",
    "        for table in soup.find_all('table'):\n",
    "            rows = table.find_all('tr')\n",
    "            data['Price'].append( rows[0].get_text().split(':')[1].replace('\\n','') )\n",
    "            data['Property Type'].append( rows[1].get_text().split(':')[1].replace('\\n','') )\n",
    "            data['Location'].append( rows[2].get_text().split(':')[1].replace('\\n','') )\n",
    "            data['Bedrooms'].append( rows[3].get_text().split(':')[1].replace('\\n','') )\n",
    "            data['Bathrooms'].append( rows[4].get_text().split(':')[1].replace('\\n','') )\n",
    "            data['Parking'].append( rows[5].get_text().split(':')[1].replace('\\n','') )\n",
    "            data['Garden'].append( rows[6].get_text().split(':')[1].replace('\\n','') )\n",
    "            data['Lease Length'].append( rows[7].get_text().split(':')[1].replace('\\n','') )\n",
    "            data['Contact'].append( rows[8].get_text().split(':')[1].replace('\\n','') )\n",
    "        page += 1\n",
    "        "
   ]
  },
  {
   "cell_type": "markdown",
   "metadata": {},
   "source": [
    "### Checking number of data points in each key to verify if all the fields have same number of data"
   ]
  },
  {
   "cell_type": "code",
   "execution_count": 6,
   "metadata": {},
   "outputs": [
    {
     "name": "stdout",
     "output_type": "stream",
     "text": [
      "Quarter : 1950\n",
      "Month : 1950\n",
      "Price : 1950\n",
      "Property Type : 1950\n",
      "Location : 1950\n",
      "Bedrooms : 1950\n",
      "Bathrooms : 1950\n",
      "Parking : 1950\n",
      "Garden : 1950\n",
      "Lease Length : 1950\n",
      "Contact : 1950\n"
     ]
    }
   ],
   "source": [
    "for k in list(data.keys()):\n",
    "    print(f'{k} : {len(data[k])}')"
   ]
  },
  {
   "cell_type": "markdown",
   "metadata": {},
   "source": [
    "### Respresenting the dictionary data into a Data Frame"
   ]
  },
  {
   "cell_type": "code",
   "execution_count": 7,
   "metadata": {},
   "outputs": [
    {
     "data": {
      "text/html": [
       "<div>\n",
       "<style scoped>\n",
       "    .dataframe tbody tr th:only-of-type {\n",
       "        vertical-align: middle;\n",
       "    }\n",
       "\n",
       "    .dataframe tbody tr th {\n",
       "        vertical-align: top;\n",
       "    }\n",
       "\n",
       "    .dataframe thead th {\n",
       "        text-align: right;\n",
       "    }\n",
       "</style>\n",
       "<table border=\"1\" class=\"dataframe\">\n",
       "  <thead>\n",
       "    <tr style=\"text-align: right;\">\n",
       "      <th></th>\n",
       "      <th>Quarter</th>\n",
       "      <th>Month</th>\n",
       "      <th>Price</th>\n",
       "      <th>Property Type</th>\n",
       "      <th>Location</th>\n",
       "      <th>Bedrooms</th>\n",
       "      <th>Bathrooms</th>\n",
       "      <th>Parking</th>\n",
       "      <th>Garden</th>\n",
       "      <th>Lease Length</th>\n",
       "      <th>Contact</th>\n",
       "    </tr>\n",
       "  </thead>\n",
       "  <tbody>\n",
       "    <tr>\n",
       "      <th>0</th>\n",
       "      <td>Q1</td>\n",
       "      <td>January 2024</td>\n",
       "      <td>€ 7,200</td>\n",
       "      <td>Apartment</td>\n",
       "      <td>Dublin City South - Dublin 2</td>\n",
       "      <td>3</td>\n",
       "      <td>1 Bathroom</td>\n",
       "      <td>Yes</td>\n",
       "      <td>No</td>\n",
       "      <td>3 months</td>\n",
       "      <td>Estate Agent</td>\n",
       "    </tr>\n",
       "    <tr>\n",
       "      <th>1</th>\n",
       "      <td>Q1</td>\n",
       "      <td>January 2024</td>\n",
       "      <td>€ 2,960 per month</td>\n",
       "      <td>Apartment</td>\n",
       "      <td>Dublin City South - Dublin 24</td>\n",
       "      <td>2 Bedrooms</td>\n",
       "      <td>2 Bathrooms</td>\n",
       "      <td>Yes</td>\n",
       "      <td>???</td>\n",
       "      <td>3 months</td>\n",
       "      <td>Estate Agent</td>\n",
       "    </tr>\n",
       "    <tr>\n",
       "      <th>2</th>\n",
       "      <td>Q1</td>\n",
       "      <td>January 2024</td>\n",
       "      <td>€1,920.00 per month</td>\n",
       "      <td>Apartment</td>\n",
       "      <td>Dublin City South - Dublin 24</td>\n",
       "      <td>2 Bedrooms</td>\n",
       "      <td>2 Bathrooms</td>\n",
       "      <td>No</td>\n",
       "      <td>No</td>\n",
       "      <td>12 months</td>\n",
       "      <td>Estate Agent</td>\n",
       "    </tr>\n",
       "    <tr>\n",
       "      <th>3</th>\n",
       "      <td>Q1</td>\n",
       "      <td>January 2024</td>\n",
       "      <td>€ 2,590</td>\n",
       "      <td>Apartment</td>\n",
       "      <td>Dublin City South - Dublin 6</td>\n",
       "      <td>2 Bedrooms</td>\n",
       "      <td>1 Bathroom</td>\n",
       "      <td>No</td>\n",
       "      <td>No</td>\n",
       "      <td>12 months</td>\n",
       "      <td>Estate Agent</td>\n",
       "    </tr>\n",
       "    <tr>\n",
       "      <th>4</th>\n",
       "      <td>Q1</td>\n",
       "      <td>January 2024</td>\n",
       "      <td>€ 4,360 per month</td>\n",
       "      <td>House</td>\n",
       "      <td>Dublin City North - Dublin 1</td>\n",
       "      <td>3</td>\n",
       "      <td>2 Bathrooms</td>\n",
       "      <td>Yes</td>\n",
       "      <td>Yes</td>\n",
       "      <td>6 months</td>\n",
       "      <td>Estate Agent</td>\n",
       "    </tr>\n",
       "  </tbody>\n",
       "</table>\n",
       "</div>"
      ],
      "text/plain": [
       "  Quarter         Month                Price Property Type  \\\n",
       "0      Q1  January 2024              € 7,200     Apartment   \n",
       "1      Q1  January 2024    € 2,960 per month     Apartment   \n",
       "2      Q1  January 2024  €1,920.00 per month     Apartment   \n",
       "3      Q1  January 2024              € 2,590     Apartment   \n",
       "4      Q1  January 2024    € 4,360 per month         House   \n",
       "\n",
       "                        Location    Bedrooms    Bathrooms Parking Garden  \\\n",
       "0   Dublin City South - Dublin 2           3   1 Bathroom     Yes     No   \n",
       "1  Dublin City South - Dublin 24  2 Bedrooms  2 Bathrooms     Yes    ???   \n",
       "2  Dublin City South - Dublin 24  2 Bedrooms  2 Bathrooms      No     No   \n",
       "3   Dublin City South - Dublin 6  2 Bedrooms   1 Bathroom      No     No   \n",
       "4   Dublin City North - Dublin 1           3  2 Bathrooms     Yes    Yes   \n",
       "\n",
       "  Lease Length       Contact  \n",
       "0     3 months  Estate Agent  \n",
       "1     3 months  Estate Agent  \n",
       "2    12 months  Estate Agent  \n",
       "3    12 months  Estate Agent  \n",
       "4     6 months  Estate Agent  "
      ]
     },
     "execution_count": 7,
     "metadata": {},
     "output_type": "execute_result"
    }
   ],
   "source": [
    "import pandas as pd \n",
    "\n",
    "data = pd.DataFrame(data)\n",
    "data = data.apply(lambda x : x.str.strip())\n",
    "data.head()"
   ]
  },
  {
   "cell_type": "markdown",
   "metadata": {},
   "source": [
    "### Saving the data in CSV format"
   ]
  },
  {
   "cell_type": "code",
   "execution_count": 8,
   "metadata": {},
   "outputs": [],
   "source": [
    "data.to_csv('dublin_rental_data.csv', index = False)"
   ]
  }
 ],
 "metadata": {
  "kernelspec": {
   "display_name": "Python 3 (ipykernel)",
   "language": "python",
   "name": "python3"
  },
  "language_info": {
   "codemirror_mode": {
    "name": "ipython",
    "version": 3
   },
   "file_extension": ".py",
   "mimetype": "text/x-python",
   "name": "python",
   "nbconvert_exporter": "python",
   "pygments_lexer": "ipython3",
   "version": "3.11.4"
  }
 },
 "nbformat": 4,
 "nbformat_minor": 4
}
